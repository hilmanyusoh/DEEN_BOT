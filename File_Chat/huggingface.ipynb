{
 "cells": [
  {
   "cell_type": "code",
   "execution_count": null,
   "metadata": {},
   "outputs": [],
   "source": [
    "\n",
    "from langchain_community.document_loaders import PyPDFLoader\n",
    "from langchain_community.document_loaders import PyPDFDirectoryLoader\n",
    "from langchain.text_splitter import RecursiveCharacterTextSplitter\n",
    "from langchain_community.vectorstores import FAISS\n",
    "\n",
    "from langchain_community.embeddings import HuggingFaceBgeEmbeddings\n",
    "from langchain.prompts import PromptTemplate\n",
    "\n",
    "from langchain.chains import RetrievalQA"
   ]
  },
  {
   "cell_type": "code",
   "execution_count": 9,
   "metadata": {},
   "outputs": [],
   "source": [
    "import pandas as pd\n",
    "\n",
    "# Load the CSV file\n",
    "data_file = \"hadith_data.csv\"\n",
    "df = pd.read_csv(data_file)\n",
    "\n",
    "# Extract the \"Hadith Text\" column\n",
    "hadith_texts = df[\"Hadith Text\"].dropna().tolist()\n"
   ]
  },
  {
   "cell_type": "code",
   "execution_count": 10,
   "metadata": {},
   "outputs": [
    {
     "name": "stdout",
     "output_type": "stream",
     "text": [
      "['Allah\\'s Messenger (ﷺ) said, \"While I was at Mecca the roof of my house was opened and Gabriel descended, \\nopened my chest, and washed it with Zamzam water. Then he brought a golden tray full of wisdom \\nand faith and having poured its contents into my chest, he closed it. Then he took my hand and \\nascended with me to the nearest heaven, when I reached the nearest heaven, Gabriel said to the \\ngatekeeper of the heaven, \\'Open (the gate).\\' The gatekeeper asked, \\'Who is it?\\' Gabriel answered: \\n\\'Gabriel.\\' He asked, \\'Is there anyone with you?\\' Gabriel replied, \\'Yes, Muhammad I is with me.\\' He \\nasked, \\'Has he been called?\\' Gabriel said, \\'Yes.\\' So the gate was opened and we went over the nearest \\nheaven and there we saw a man sitting with some people on his right and some on his left. When he \\nlooked towards his right, he laughed and when he looked toward his left he wept. Then he said, \\n\\'Welcome! O pious Prophet and pious son.\\' I asked Gabriel, \\'Who is he?\\' He replied, \\'He is Adam and', 'looked towards his right, he laughed and when he looked toward his left he wept. Then he said, \\n\\'Welcome! O pious Prophet and pious son.\\' I asked Gabriel, \\'Who is he?\\' He replied, \\'He is Adam and \\nthe people on his right and left are the souls of his offspring. Those on his right are the people of \\nParadise and those on his left are the people of Hell and when he looks towards his right he laughs and \\nwhen he looks towards his left he weeps.\\' \\nThen he ascended with me till he reached the second heaven and he (Gabriel) said to its gatekeeper, \\n\\'Open (the gate).\\' The gatekeeper said to him the same as the gatekeeper of the first heaven had said \\nand he opened the gate. Anas said: \"Abu Dhar added that the Prophet (ﷺ) met Adam, Idris, Moses, Jesus \\nand Abraham, he (Abu Dhar) did not mention on which heaven they were but he mentioned that he \\n(the Prophet (ﷺ) ) met Adam on the nearest heaven and Abraham on the sixth heaven. Anas said, \"When', 'and Abraham, he (Abu Dhar) did not mention on which heaven they were but he mentioned that he \\n(the Prophet (ﷺ) ) met Adam on the nearest heaven and Abraham on the sixth heaven. Anas said, \"When \\nGabriel along with the Prophet (ﷺ) passed by Idris, the latter said, \\'Welcome! O pious Prophet and pious \\nbrother.\\' The Prophet (ﷺ) asked, \\'Who is he?\\' Gabriel replied, \\'He is Idris.\" The Prophet (ﷺ) added, \"I passed \\nby Moses and he said, \\'Welcome! O pious Prophet and pious brother.\\' I asked Gabriel, \\'Who is he?\\' \\nGabriel replied, \\'He is Moses.\\' Then I passed by Jesus and he said, \\'Welcome! O pious brother and \\npious Prophet.\\' I asked, \\'Who is he?\\' Gabriel replied, \\'He is Jesus. \\nThen I passed by Abraham and he said, \\'Welcome! O pious Prophet and pious son.\\' I asked Gabriel, \\n\\'Who is he?\\' Gabriel replied, \\'He is Abraham. The Prophet (ﷺ) added, \\'Then Gabriel ascended with me to a \\nplace where I heard the creaking of the pens.\" Ibn Hazm and Anas bin Malik said: The Prophet (ﷺ) said,', 'place where I heard the creaking of the pens.\" Ibn Hazm and Anas bin Malik said: The Prophet (ﷺ) said, \\n\"Then Allah enjoined fifty prayers on my followers when I returned with this order of Allah, I passed \\nby Moses who asked me, \\'What has Allah enjoined on your followers?\\' I replied, \\'He has enjoined \\nfifty prayers on them.\\' Moses said, \\'Go back to your Lord (and appeal for reduction) for your followers \\nwill not be able to bear it.\\' (So I went back to Allah and requested for reduction) and He reduced it to \\nhalf. When I passed by Moses again and informed him about it, he said, \\'Go back to your Lord as your \\nfollowers will not be able to bear it.\\' So I returned to Allah and requested for further reduction and \\nhalf of it was reduced. I again passed by Moses and he said to me: \\'Return to your Lord, for your \\nfollowers will not be able to bear it. So I returned to Allah and He said, \\'These are five prayers and', 'followers will not be able to bear it. So I returned to Allah and He said, \\'These are five prayers and \\nthey are all (equal to) fifty (in reward) for My Word does not change.\\' I returned to Moses and he told \\nme to go back once again. I replied, \\'Now I feel shy of asking my Lord again.\\' Then Gabriel took me \\ntill we \\'\\' reached Sidrat-il-Muntaha (Lote tree of; the utmost boundary) which was shrouded in colors, \\nindescribable. Then I was admitted into Paradise where I found small (tents or) walls (made) of pearls \\nand its earth was of musk.\"']\n"
     ]
    }
   ],
   "source": [
    "from langchain.text_splitter import RecursiveCharacterTextSplitter\n",
    "\n",
    "# Initialize the text splitter\n",
    "text_splitter = RecursiveCharacterTextSplitter(chunk_size=1000, chunk_overlap=200)\n",
    "\n",
    "# Split each Hadith text into chunks\n",
    "final_documents = []\n",
    "for text in hadith_texts:\n",
    "    chunks = text_splitter.split_text(text)\n",
    "    final_documents.extend(chunks)\n",
    "\n",
    "# Each chunk is a part of the Hadith text\n",
    "print(final_documents[:5])  # Display the first 5 chunks\n"
   ]
  },
  {
   "cell_type": "code",
   "execution_count": 11,
   "metadata": {},
   "outputs": [
    {
     "name": "stdout",
     "output_type": "stream",
     "text": [
      "[0.019624490290880203, 0.04553646966814995, 0.03260500729084015, -0.0031482118647545576, 0.022959046065807343, -0.006676042918115854, 0.08351331204175949, 0.001752863870933652, 0.04383356496691704, -0.0391056090593338, 0.0016460524639114738, 0.019809318706393242, 0.010862298309803009, 0.003174691693857312, 0.06661178171634674, 0.011614515446126461, -0.057227615267038345, 0.03592041879892349, -0.09562207013368607, 0.04215120151638985, -0.09020876884460449, -0.046471692621707916, -0.008220091462135315, -0.056422024965286255, -0.02743370085954666, 0.10401047766208649, 0.015995267778635025, 0.030536523088812828, -0.013632283546030521, -0.06252141296863556, -0.0202234648168087, -0.0506729818880558, 0.03919683024287224, -0.01572345569729805, 0.03516285493969917, 0.05221071094274521, -0.053536150604486465, -0.03585733473300934, 0.03800337761640549, 0.01365664042532444, 0.08970610797405243, 0.03337949514389038, 0.004542062059044838, -0.0356660820543766, 0.006378337275236845, -0.032881565392017365, 0.06291837245225906, 0.018374258652329445, 0.06185398995876312, 0.01660432294011116, -0.00936517771333456, 0.0511072613298893, 0.026990169659256935, 0.013780992478132248, -0.004728495609015226, -0.0034975437447428703, 0.05857503041625023, -0.013656474649906158, -0.02151530608534813, 0.022482510656118393, -0.0015307656722143292, 0.052094317972660065, -0.10370324552059174, 0.02508920431137085, 0.0573689229786396, -0.03130422532558441, -0.02470039576292038, -0.0342329777777195, 0.05099126324057579, 0.05980866029858589, -0.015562580898404121, 0.002179388189688325, 0.0005542428698390722, -0.013851006515324116, 0.008238560520112514, -0.03961652144789696, -0.06167568266391754, -0.012496127746999264, -0.02580784261226654, -0.010696925222873688, 0.02685958333313465, -0.08378582447767258, -0.03771365061402321, -0.02544821798801422, -0.11037533730268478, 0.014188360422849655, 0.004298236686736345, 0.03701997548341751, 0.008123020641505718, 0.030488714575767517, -0.001197520294226706, -0.033505603671073914, -0.016480710357427597, 0.015719732269644737, -0.04129227623343468, -0.001634680898860097, -0.04543761536478996, 0.019731029868125916, 0.044143371284008026, 0.3614599406719208, -0.047735944390296936, -0.04202642664313316, -0.006878711748868227, 0.025340905413031578, -0.021574189886450768, 0.03667590022087097, 0.001370989135466516, 0.0531596876680851, 0.030002664774656296, 0.04891125112771988, 0.012272282503545284, -0.008296481333673, 0.08310127258300781, -0.02127149887382984, 0.03105594404041767, -0.0034243958070874214, 0.06010831519961357, -0.012779486365616322, -0.06581439077854156, -0.0828329473733902, 0.01849282532930374, 0.016078341752290726, 0.041031062602996826, -0.016916519030928612, -0.023528093472123146, 0.002340290928259492, 0.07937806844711304, 0.05825914815068245, 0.04830530658364296, -0.053243014961481094, -0.0363759808242321, -0.07926468551158905, 0.0187977384775877, -0.05120990052819252, 0.012762967497110367, 0.04087385535240173, 0.060110848397016525, -0.03147173300385475, 0.08358906954526901, -0.03203865885734558, -0.043113332241773605, -0.043332550674676895, -0.05989662557840347, -0.02427661046385765, -0.024445703253149986, -0.014775379560887814, -0.04434458911418915, 0.01799221895635128, 0.02505837380886078, -0.049503762274980545, -0.007672076113522053, 0.014848578721284866, -0.015588004142045975, 0.00880366750061512, 0.04818277806043625, -0.024008119478821754, 0.0013738099951297045, 0.05502207204699516, 0.11579028517007828, -0.034832876175642014, 0.03630109131336212, -0.029927115887403488, -0.044150155037641525, 0.009699789807200432, -0.03630446270108223, -0.095215804874897, -0.033870499581098557, -0.02767687663435936, -0.003153722733259201, -0.0431695319712162, 0.09037657827138901, 0.026721570640802383, -0.04776401072740555, 0.06428482383489609, 0.09231870621442795, -0.03193800151348114, -0.0322931669652462, 0.09151294082403183, -0.032862670719623566, 0.010512251406908035, 0.006567732430994511, -0.021429067477583885, -0.053796593099832535, 0.027570951730012894, 0.03231371194124222, -0.05069412291049957, -0.05563238263130188, 0.06396474689245224, 0.014338257722556591, -0.026509413495659828, -0.03603747487068176, -0.0026451076846569777, -0.0319008007645607, 0.027275074273347855, 0.029222959652543068, -0.00382182071916759, 0.029405616223812103, -0.003073402214795351, 0.06700614094734192, -0.020550420507788658, 0.01187601312994957, -0.022329868748784065, -0.08128122240304947, 0.057539187371730804, -0.012775070033967495, 0.09215589612722397, 0.03419411554932594, 0.001025669858790934, 0.02759406901896, 0.013547302223742008, 0.004666363354772329, 0.013958320021629333, 0.04416707530617714, -0.03443564847111702, 0.03079940564930439, -0.003728878451511264, 0.011120977811515331, -0.01367658656090498, -0.0375785194337368, 0.01651671715080738, 0.0012311366153880954, -0.08587390184402466, -0.045826949179172516, -0.3093496561050415, 0.044030461460351944, -0.0629575252532959, -0.06395157426595688, -0.04872371628880501, -0.025408990681171417, 0.004323175642639399, -0.03903501480817795, 0.03700101375579834, -0.07004859298467636, 0.05594341456890106, 0.004246275406330824, 0.028895458206534386, 0.018037304282188416, -0.05262243002653122, -0.011270920746028423, -0.05986746773123741, 0.06489240378141403, -0.010588510893285275, -0.010710285045206547, 0.030692286789417267, 0.04115036875009537, -0.03796415403485298, -0.01683848910033703, 0.011064336635172367, -0.008712301962077618, 0.14627261459827423, 0.030155455693602562, 0.08550384640693665, -0.007519327569752932, 0.06948857754468918, -0.021477611735463142, -0.00855929683893919, -0.13364063203334808, 0.015247926115989685, 0.008818319998681545, 0.031993553042411804, 0.025326283648610115, -0.045971598476171494, -0.009354662150144577, 0.016524160280823708, 0.05402898043394089, 0.036960527300834656, -0.05985364317893982, 0.029647430405020714, -0.01268466655164957, -0.013155519962310791, 0.04815689101815224, 0.005690740887075663, -0.05007096752524376, -0.005496844183653593, -0.11406106501817703, -0.031561389565467834, 0.04189068824052811, -0.02673870138823986, -0.0535152368247509, -0.02581305429339409, 0.03938007354736328, 0.009515932761132717, 0.08068311214447021, 0.022378575056791306, 0.007268532179296017, 0.0326918363571167, -0.008287881501019001, -0.014885454438626766, -0.007095801178365946, -0.013623940758407116, 0.0264896247535944, 0.014825019985437393, -0.02243596315383911, -0.09043101966381073, 0.014509088359773159, -0.0077944970689713955, -0.056837715208530426, 0.0696026012301445, 0.04366398602724075, -0.007851584814488888, -0.028912581503391266, 0.0374661423265934, 0.024737637490034103, -0.04608254134654999, -0.021243834868073463, 0.036373529583215714, 0.011504076421260834, -0.012099530547857285, 0.03524400666356087, -0.1009812280535698, 0.01616877317428589, -0.010085253044962883, -0.03668862581253052, -0.022204779088497162, 0.006997039075940847, -0.0006813888903707266, -0.013188575394451618, 0.0440986193716526, -0.0350741371512413, -0.2597607374191284, 0.030609747394919395, -0.0046232701279222965, -0.03908269852399826, -0.05873434990644455, 0.037747614085674286, -0.003982120659202337, 0.05430753529071808, 0.012297917157411575, -0.015320107340812683, 0.03448387607932091, -0.016001597046852112, 0.017071474343538284, -0.021543951705098152, 0.06039457023143768, -0.03152979537844658, -0.0503728911280632, 0.06931097060441971, -0.016951166093349457, 0.01785365678369999, -0.03073260188102722, 0.03896666318178177, 0.11947163194417953, 0.015106364153325558, 0.012862570583820343, -0.0160536952316761, -0.011150535196065903, 0.026468120515346527, -0.004714650101959705, 0.02066982537508011, 0.027791544795036316, -0.00035591848427429795, 0.0027923062443733215, -0.0038143231067806482, 0.0020652662497013807, -0.08187039941549301, 0.04564724490046501, 0.06825346499681473, -0.02635793574154377, 0.015567433089017868, -0.07082129269838333, 0.05159451439976692, -0.018598003312945366, -0.002447732724249363, 0.02510199323296547, -0.04894736781716347, 0.05836602300405502, 0.004350019618868828, 0.043586526066064835, -0.04390951991081238, -0.004999776836484671, -0.005756641738116741, 0.025663083419203758, 0.03013339824974537, 0.019123101606965065, 0.03232400864362717, -0.060904644429683685, -0.014422019012272358, -0.02410193718969822, -0.031750183552503586, 0.06009483337402344, 0.031640809029340744, 0.00288537354208529, -0.15199217200279236, 0.035876307636499405]\n"
     ]
    }
   ],
   "source": [
    "## Embedding Using Huggingface\n",
    "huggingface_embeddings=HuggingFaceBgeEmbeddings(\n",
    "    model_name=\"BAAI/bge-small-en-v1.5\",      #sentence-transformers/all-MiniLM-l6-v2\n",
    "    model_kwargs={'device':'cpu'},\n",
    "    encode_kwargs={'normalize_embeddings':True}\n",
    "\n",
    ")\n",
    "\n",
    "# Example texts\n",
    "texts = [\"While I was at Mecca the roof of my house was opened...\",\n",
    "         \"Gabriel said to the gatekeeper of the heaven, 'Open (the gate).'\"]\n",
    "\n",
    "# Generate embeddings\n",
    "embeddings = huggingface_embeddings.embed_documents(texts)\n",
    "\n",
    "# Display the embeddings\n",
    "print(embeddings[0])  # Prints the embedding vector for the first text\n",
    "\n"
   ]
  }
 ],
 "metadata": {
  "kernelspec": {
   "display_name": "base",
   "language": "python",
   "name": "python3"
  },
  "language_info": {
   "codemirror_mode": {
    "name": "ipython",
    "version": 3
   },
   "file_extension": ".py",
   "mimetype": "text/x-python",
   "name": "python",
   "nbconvert_exporter": "python",
   "pygments_lexer": "ipython3",
   "version": "3.11.5"
  }
 },
 "nbformat": 4,
 "nbformat_minor": 2
}
