{
 "cells": [
  {
   "cell_type": "code",
   "execution_count": 20,
   "metadata": {},
   "outputs": [],
   "source": [
    "from langchain_community.document_loaders import PyPDFLoader\n",
    "from langchain_community.document_loaders import PyPDFDirectoryLoader\n",
    "from langchain.text_splitter import RecursiveCharacterTextSplitter\n",
    "from langchain_community.vectorstores import FAISS\n",
    "\n",
    "from langchain_community.embeddings import HuggingFaceBgeEmbeddings\n",
    "from langchain.prompts import PromptTemplate\n",
    "\n",
    "from langchain.chains import RetrievalQA\n",
    "\n"
   ]
  },
  {
   "cell_type": "code",
   "execution_count": 18,
   "metadata": {},
   "outputs": [
    {
     "ename": "IndexError",
     "evalue": "list index out of range",
     "output_type": "error",
     "traceback": [
      "\u001b[0;31m---------------------------------------------------------------------------\u001b[0m",
      "\u001b[0;31mIndexError\u001b[0m                                Traceback (most recent call last)",
      "Cell \u001b[0;32mIn[18], line 9\u001b[0m\n\u001b[1;32m      6\u001b[0m text_splitter\u001b[38;5;241m=\u001b[39mRecursiveCharacterTextSplitter(chunk_size\u001b[38;5;241m=\u001b[39m\u001b[38;5;241m1000\u001b[39m,chunk_overlap\u001b[38;5;241m=\u001b[39m\u001b[38;5;241m200\u001b[39m)\n\u001b[1;32m      8\u001b[0m final_documents\u001b[38;5;241m=\u001b[39mtext_splitter\u001b[38;5;241m.\u001b[39msplit_documents(documents)\n\u001b[0;32m----> 9\u001b[0m final_documents[\u001b[38;5;241m0\u001b[39m]\n",
      "\u001b[0;31mIndexError\u001b[0m: list index out of range"
     ]
    }
   ],
   "source": [
    "## Read the ppdfs from the folder\n",
    "loader=PyPDFDirectoryLoader(\"./us_census\")\n",
    "\n",
    "documents=loader.load()\n",
    "\n",
    "text_splitter=RecursiveCharacterTextSplitter(chunk_size=1000,chunk_overlap=200)\n",
    "\n",
    "final_documents=text_splitter.split_documents(documents)\n",
    "final_documents[0]"
   ]
  },
  {
   "cell_type": "code",
   "execution_count": 21,
   "metadata": {},
   "outputs": [],
   "source": [
    "import pandas as pd\n",
    "\n",
    "# Load the CSV file\n",
    "data_file = \"hadith_data.csv\"\n",
    "df = pd.read_csv(data_file)\n",
    "\n",
    "# Extract the \"Hadith Text\" column\n",
    "hadith_texts = df[\"Hadith Text\"].dropna().tolist()\n"
   ]
  },
  {
   "cell_type": "code",
   "execution_count": 22,
   "metadata": {},
   "outputs": [
    {
     "name": "stdout",
     "output_type": "stream",
     "text": [
      "['Allah\\'s Messenger (ﷺ) said, \"While I was at Mecca the roof of my house was opened and Gabriel descended, \\nopened my chest, and washed it with Zamzam water. Then he brought a golden tray full of wisdom \\nand faith and having poured its contents into my chest, he closed it. Then he took my hand and \\nascended with me to the nearest heaven, when I reached the nearest heaven, Gabriel said to the \\ngatekeeper of the heaven, \\'Open (the gate).\\' The gatekeeper asked, \\'Who is it?\\' Gabriel answered: \\n\\'Gabriel.\\' He asked, \\'Is there anyone with you?\\' Gabriel replied, \\'Yes, Muhammad I is with me.\\' He \\nasked, \\'Has he been called?\\' Gabriel said, \\'Yes.\\' So the gate was opened and we went over the nearest \\nheaven and there we saw a man sitting with some people on his right and some on his left. When he \\nlooked towards his right, he laughed and when he looked toward his left he wept. Then he said, \\n\\'Welcome! O pious Prophet and pious son.\\' I asked Gabriel, \\'Who is he?\\' He replied, \\'He is Adam and', 'looked towards his right, he laughed and when he looked toward his left he wept. Then he said, \\n\\'Welcome! O pious Prophet and pious son.\\' I asked Gabriel, \\'Who is he?\\' He replied, \\'He is Adam and \\nthe people on his right and left are the souls of his offspring. Those on his right are the people of \\nParadise and those on his left are the people of Hell and when he looks towards his right he laughs and \\nwhen he looks towards his left he weeps.\\' \\nThen he ascended with me till he reached the second heaven and he (Gabriel) said to its gatekeeper, \\n\\'Open (the gate).\\' The gatekeeper said to him the same as the gatekeeper of the first heaven had said \\nand he opened the gate. Anas said: \"Abu Dhar added that the Prophet (ﷺ) met Adam, Idris, Moses, Jesus \\nand Abraham, he (Abu Dhar) did not mention on which heaven they were but he mentioned that he \\n(the Prophet (ﷺ) ) met Adam on the nearest heaven and Abraham on the sixth heaven. Anas said, \"When', 'and Abraham, he (Abu Dhar) did not mention on which heaven they were but he mentioned that he \\n(the Prophet (ﷺ) ) met Adam on the nearest heaven and Abraham on the sixth heaven. Anas said, \"When \\nGabriel along with the Prophet (ﷺ) passed by Idris, the latter said, \\'Welcome! O pious Prophet and pious \\nbrother.\\' The Prophet (ﷺ) asked, \\'Who is he?\\' Gabriel replied, \\'He is Idris.\" The Prophet (ﷺ) added, \"I passed \\nby Moses and he said, \\'Welcome! O pious Prophet and pious brother.\\' I asked Gabriel, \\'Who is he?\\' \\nGabriel replied, \\'He is Moses.\\' Then I passed by Jesus and he said, \\'Welcome! O pious brother and \\npious Prophet.\\' I asked, \\'Who is he?\\' Gabriel replied, \\'He is Jesus. \\nThen I passed by Abraham and he said, \\'Welcome! O pious Prophet and pious son.\\' I asked Gabriel, \\n\\'Who is he?\\' Gabriel replied, \\'He is Abraham. The Prophet (ﷺ) added, \\'Then Gabriel ascended with me to a \\nplace where I heard the creaking of the pens.\" Ibn Hazm and Anas bin Malik said: The Prophet (ﷺ) said,', 'place where I heard the creaking of the pens.\" Ibn Hazm and Anas bin Malik said: The Prophet (ﷺ) said, \\n\"Then Allah enjoined fifty prayers on my followers when I returned with this order of Allah, I passed \\nby Moses who asked me, \\'What has Allah enjoined on your followers?\\' I replied, \\'He has enjoined \\nfifty prayers on them.\\' Moses said, \\'Go back to your Lord (and appeal for reduction) for your followers \\nwill not be able to bear it.\\' (So I went back to Allah and requested for reduction) and He reduced it to \\nhalf. When I passed by Moses again and informed him about it, he said, \\'Go back to your Lord as your \\nfollowers will not be able to bear it.\\' So I returned to Allah and requested for further reduction and \\nhalf of it was reduced. I again passed by Moses and he said to me: \\'Return to your Lord, for your \\nfollowers will not be able to bear it. So I returned to Allah and He said, \\'These are five prayers and', 'followers will not be able to bear it. So I returned to Allah and He said, \\'These are five prayers and \\nthey are all (equal to) fifty (in reward) for My Word does not change.\\' I returned to Moses and he told \\nme to go back once again. I replied, \\'Now I feel shy of asking my Lord again.\\' Then Gabriel took me \\ntill we \\'\\' reached Sidrat-il-Muntaha (Lote tree of; the utmost boundary) which was shrouded in colors, \\nindescribable. Then I was admitted into Paradise where I found small (tents or) walls (made) of pearls \\nand its earth was of musk.\"']\n"
     ]
    }
   ],
   "source": [
    "from langchain.text_splitter import RecursiveCharacterTextSplitter\n",
    "\n",
    "# Initialize the text splitter\n",
    "text_splitter = RecursiveCharacterTextSplitter(chunk_size=1000, chunk_overlap=200)\n",
    "\n",
    "# Split each Hadith text into chunks\n",
    "final_documents = []\n",
    "for text in hadith_texts:\n",
    "    chunks = text_splitter.split_text(text)\n",
    "    final_documents.extend(chunks)\n",
    "\n",
    "# Each chunk is a part of the Hadith text\n",
    "print(final_documents[:5])  # Display the first 5 chunks\n"
   ]
  },
  {
   "cell_type": "code",
   "execution_count": 23,
   "metadata": {},
   "outputs": [
    {
     "name": "stdout",
     "output_type": "stream",
     "text": [
      "[0.019624490290880203, 0.04553646966814995, 0.03260500729084015, -0.0031482118647545576, 0.022959046065807343, -0.006676042918115854, 0.08351331204175949, 0.001752863870933652, 0.04383356496691704, -0.0391056090593338, 0.0016460524639114738, 0.019809318706393242, 0.010862298309803009, 0.003174691693857312, 0.06661178171634674, 0.011614515446126461, -0.057227615267038345, 0.03592041879892349, -0.09562207013368607, 0.04215120151638985, -0.09020876884460449, -0.046471692621707916, -0.008220091462135315, -0.056422024965286255, -0.02743370085954666, 0.10401047766208649, 0.015995267778635025, 0.030536523088812828, -0.013632283546030521, -0.06252141296863556, -0.0202234648168087, -0.0506729818880558, 0.03919683024287224, -0.01572345569729805, 0.03516285493969917, 0.05221071094274521, -0.053536150604486465, -0.03585733473300934, 0.03800337761640549, 0.01365664042532444, 0.08970610797405243, 0.03337949514389038, 0.004542062059044838, -0.0356660820543766, 0.006378337275236845, -0.032881565392017365, 0.06291837245225906, 0.018374258652329445, 0.06185398995876312, 0.01660432294011116, -0.00936517771333456, 0.0511072613298893, 0.026990169659256935, 0.013780992478132248, -0.004728495609015226, -0.0034975437447428703, 0.05857503041625023, -0.013656474649906158, -0.02151530608534813, 0.022482510656118393, -0.0015307656722143292, 0.052094317972660065, -0.10370324552059174, 0.02508920431137085, 0.0573689229786396, -0.03130422532558441, -0.02470039576292038, -0.0342329777777195, 0.05099126324057579, 0.05980866029858589, -0.015562580898404121, 0.002179388189688325, 0.0005542428698390722, -0.013851006515324116, 0.008238560520112514, -0.03961652144789696, -0.06167568266391754, -0.012496127746999264, -0.02580784261226654, -0.010696925222873688, 0.02685958333313465, -0.08378582447767258, -0.03771365061402321, -0.02544821798801422, -0.11037533730268478, 0.014188360422849655, 0.004298236686736345, 0.03701997548341751, 0.008123020641505718, 0.030488714575767517, -0.001197520294226706, -0.033505603671073914, -0.016480710357427597, 0.015719732269644737, -0.04129227623343468, -0.001634680898860097, -0.04543761536478996, 0.019731029868125916, 0.044143371284008026, 0.3614599406719208, -0.047735944390296936, -0.04202642664313316, -0.006878711748868227, 0.025340905413031578, -0.021574189886450768, 0.03667590022087097, 0.001370989135466516, 0.0531596876680851, 0.030002664774656296, 0.04891125112771988, 0.012272282503545284, -0.008296481333673, 0.08310127258300781, -0.02127149887382984, 0.03105594404041767, -0.0034243958070874214, 0.06010831519961357, -0.012779486365616322, -0.06581439077854156, -0.0828329473733902, 0.01849282532930374, 0.016078341752290726, 0.041031062602996826, -0.016916519030928612, -0.023528093472123146, 0.002340290928259492, 0.07937806844711304, 0.05825914815068245, 0.04830530658364296, -0.053243014961481094, -0.0363759808242321, -0.07926468551158905, 0.0187977384775877, -0.05120990052819252, 0.012762967497110367, 0.04087385535240173, 0.060110848397016525, -0.03147173300385475, 0.08358906954526901, -0.03203865885734558, -0.043113332241773605, -0.043332550674676895, -0.05989662557840347, -0.02427661046385765, -0.024445703253149986, -0.014775379560887814, -0.04434458911418915, 0.01799221895635128, 0.02505837380886078, -0.049503762274980545, -0.007672076113522053, 0.014848578721284866, -0.015588004142045975, 0.00880366750061512, 0.04818277806043625, -0.024008119478821754, 0.0013738099951297045, 0.05502207204699516, 0.11579028517007828, -0.034832876175642014, 0.03630109131336212, -0.029927115887403488, -0.044150155037641525, 0.009699789807200432, -0.03630446270108223, -0.095215804874897, -0.033870499581098557, -0.02767687663435936, -0.003153722733259201, -0.0431695319712162, 0.09037657827138901, 0.026721570640802383, -0.04776401072740555, 0.06428482383489609, 0.09231870621442795, -0.03193800151348114, -0.0322931669652462, 0.09151294082403183, -0.032862670719623566, 0.010512251406908035, 0.006567732430994511, -0.021429067477583885, -0.053796593099832535, 0.027570951730012894, 0.03231371194124222, -0.05069412291049957, -0.05563238263130188, 0.06396474689245224, 0.014338257722556591, -0.026509413495659828, -0.03603747487068176, -0.0026451076846569777, -0.0319008007645607, 0.027275074273347855, 0.029222959652543068, -0.00382182071916759, 0.029405616223812103, -0.003073402214795351, 0.06700614094734192, -0.020550420507788658, 0.01187601312994957, -0.022329868748784065, -0.08128122240304947, 0.057539187371730804, -0.012775070033967495, 0.09215589612722397, 0.03419411554932594, 0.001025669858790934, 0.02759406901896, 0.013547302223742008, 0.004666363354772329, 0.013958320021629333, 0.04416707530617714, -0.03443564847111702, 0.03079940564930439, -0.003728878451511264, 0.011120977811515331, -0.01367658656090498, -0.0375785194337368, 0.01651671715080738, 0.0012311366153880954, -0.08587390184402466, -0.045826949179172516, -0.3093496561050415, 0.044030461460351944, -0.0629575252532959, -0.06395157426595688, -0.04872371628880501, -0.025408990681171417, 0.004323175642639399, -0.03903501480817795, 0.03700101375579834, -0.07004859298467636, 0.05594341456890106, 0.004246275406330824, 0.028895458206534386, 0.018037304282188416, -0.05262243002653122, -0.011270920746028423, -0.05986746773123741, 0.06489240378141403, -0.010588510893285275, -0.010710285045206547, 0.030692286789417267, 0.04115036875009537, -0.03796415403485298, -0.01683848910033703, 0.011064336635172367, -0.008712301962077618, 0.14627261459827423, 0.030155455693602562, 0.08550384640693665, -0.007519327569752932, 0.06948857754468918, -0.021477611735463142, -0.00855929683893919, -0.13364063203334808, 0.015247926115989685, 0.008818319998681545, 0.031993553042411804, 0.025326283648610115, -0.045971598476171494, -0.009354662150144577, 0.016524160280823708, 0.05402898043394089, 0.036960527300834656, -0.05985364317893982, 0.029647430405020714, -0.01268466655164957, -0.013155519962310791, 0.04815689101815224, 0.005690740887075663, -0.05007096752524376, -0.005496844183653593, -0.11406106501817703, -0.031561389565467834, 0.04189068824052811, -0.02673870138823986, -0.0535152368247509, -0.02581305429339409, 0.03938007354736328, 0.009515932761132717, 0.08068311214447021, 0.022378575056791306, 0.007268532179296017, 0.0326918363571167, -0.008287881501019001, -0.014885454438626766, -0.007095801178365946, -0.013623940758407116, 0.0264896247535944, 0.014825019985437393, -0.02243596315383911, -0.09043101966381073, 0.014509088359773159, -0.0077944970689713955, -0.056837715208530426, 0.0696026012301445, 0.04366398602724075, -0.007851584814488888, -0.028912581503391266, 0.0374661423265934, 0.024737637490034103, -0.04608254134654999, -0.021243834868073463, 0.036373529583215714, 0.011504076421260834, -0.012099530547857285, 0.03524400666356087, -0.1009812280535698, 0.01616877317428589, -0.010085253044962883, -0.03668862581253052, -0.022204779088497162, 0.006997039075940847, -0.0006813888903707266, -0.013188575394451618, 0.0440986193716526, -0.0350741371512413, -0.2597607374191284, 0.030609747394919395, -0.0046232701279222965, -0.03908269852399826, -0.05873434990644455, 0.037747614085674286, -0.003982120659202337, 0.05430753529071808, 0.012297917157411575, -0.015320107340812683, 0.03448387607932091, -0.016001597046852112, 0.017071474343538284, -0.021543951705098152, 0.06039457023143768, -0.03152979537844658, -0.0503728911280632, 0.06931097060441971, -0.016951166093349457, 0.01785365678369999, -0.03073260188102722, 0.03896666318178177, 0.11947163194417953, 0.015106364153325558, 0.012862570583820343, -0.0160536952316761, -0.011150535196065903, 0.026468120515346527, -0.004714650101959705, 0.02066982537508011, 0.027791544795036316, -0.00035591848427429795, 0.0027923062443733215, -0.0038143231067806482, 0.0020652662497013807, -0.08187039941549301, 0.04564724490046501, 0.06825346499681473, -0.02635793574154377, 0.015567433089017868, -0.07082129269838333, 0.05159451439976692, -0.018598003312945366, -0.002447732724249363, 0.02510199323296547, -0.04894736781716347, 0.05836602300405502, 0.004350019618868828, 0.043586526066064835, -0.04390951991081238, -0.004999776836484671, -0.005756641738116741, 0.025663083419203758, 0.03013339824974537, 0.019123101606965065, 0.03232400864362717, -0.060904644429683685, -0.014422019012272358, -0.02410193718969822, -0.031750183552503586, 0.06009483337402344, 0.031640809029340744, 0.00288537354208529, -0.15199217200279236, 0.035876307636499405]\n"
     ]
    }
   ],
   "source": [
    "## Embedding Using Huggingface\n",
    "huggingface_embeddings=HuggingFaceBgeEmbeddings(\n",
    "    model_name=\"BAAI/bge-small-en-v1.5\",      #sentence-transformers/all-MiniLM-l6-v2\n",
    "    model_kwargs={'device':'cpu'},\n",
    "    encode_kwargs={'normalize_embeddings':True}\n",
    "\n",
    ")\n",
    "\n",
    "# Example texts\n",
    "texts = [\"While I was at Mecca the roof of my house was opened...\",\n",
    "         \"Gabriel said to the gatekeeper of the heaven, 'Open (the gate).'\"]\n",
    "\n",
    "# Generate embeddings\n",
    "embeddings = huggingface_embeddings.embed_documents(texts)\n",
    "\n",
    "# Display the embeddings\n",
    "print(embeddings[0])  # Prints the embedding vector for the first text\n",
    "\n"
   ]
  },
  {
   "cell_type": "code",
   "execution_count": 24,
   "metadata": {},
   "outputs": [],
   "source": [
    "from langchain.vectorstores import FAISS\n",
    "\n",
    "# Create a FAISS vector store\n",
    "vector_store = FAISS.from_texts(texts, huggingface_embeddings)\n",
    "\n",
    "# Save the FAISS index for future use\n",
    "vector_store.save_local(\"faiss_store\")\n"
   ]
  },
  {
   "cell_type": "code",
   "execution_count": 25,
   "metadata": {},
   "outputs": [],
   "source": [
    "import faiss\n",
    "import numpy as np\n",
    "\n",
    "# Example texts\n",
    "texts = [\n",
    "    \"While I was at Mecca the roof of my house was opened...\",\n",
    "    \"Gabriel said to the gatekeeper of the heaven, 'Open (the gate).'\"\n",
    "]\n",
    "\n",
    "# Generate embeddings\n",
    "embeddings = huggingface_embeddings.embed_documents(texts)\n",
    "\n",
    "# Convert embeddings to a NumPy array with dtype float32\n",
    "embeddings_array = np.array(embeddings).astype('float32')  # FAISS requires float32\n"
   ]
  },
  {
   "cell_type": "code",
   "execution_count": 39,
   "metadata": {},
   "outputs": [
    {
     "ename": "ValueError",
     "evalue": "The de-serialization relies loading a pickle file. Pickle files can be modified to deliver a malicious payload that results in execution of arbitrary code on your machine.You will need to set `allow_dangerous_deserialization` to `True` to enable deserialization. If you do this, make sure that you trust the source of the data. For example, if you are loading a file that you created, and know that no one else has modified the file, then this is safe to do. Do not set this to `True` if you are loading a file from an untrusted source (e.g., some random site on the internet.).",
     "output_type": "error",
     "traceback": [
      "\u001b[0;31m---------------------------------------------------------------------------\u001b[0m",
      "\u001b[0;31mValueError\u001b[0m                                Traceback (most recent call last)",
      "Cell \u001b[0;32mIn[39], line 11\u001b[0m\n\u001b[1;32m      8\u001b[0m vector_store\u001b[38;5;241m.\u001b[39msave_local(\u001b[38;5;124m\"\u001b[39m\u001b[38;5;124mfaiss_store\u001b[39m\u001b[38;5;124m\"\u001b[39m)\n\u001b[1;32m     10\u001b[0m \u001b[38;5;66;03m# Load the FAISS store\u001b[39;00m\n\u001b[0;32m---> 11\u001b[0m loaded_store \u001b[38;5;241m=\u001b[39m FAISS\u001b[38;5;241m.\u001b[39mload_local(\u001b[38;5;124m\"\u001b[39m\u001b[38;5;124mfaiss_store\u001b[39m\u001b[38;5;124m\"\u001b[39m, huggingface_embeddings)\n",
      "File \u001b[0;32m~/anaconda3/lib/python3.11/site-packages/langchain_community/vectorstores/faiss.py:1188\u001b[0m, in \u001b[0;36mFAISS.load_local\u001b[0;34m(cls, folder_path, embeddings, index_name, allow_dangerous_deserialization, **kwargs)\u001b[0m\n\u001b[1;32m   1174\u001b[0m \u001b[38;5;250m\u001b[39m\u001b[38;5;124;03m\"\"\"Load FAISS index, docstore, and index_to_docstore_id from disk.\u001b[39;00m\n\u001b[1;32m   1175\u001b[0m \n\u001b[1;32m   1176\u001b[0m \u001b[38;5;124;03mArgs:\u001b[39;00m\n\u001b[0;32m   (...)\u001b[0m\n\u001b[1;32m   1185\u001b[0m \u001b[38;5;124;03m        arbitrary code on your machine.\u001b[39;00m\n\u001b[1;32m   1186\u001b[0m \u001b[38;5;124;03m\"\"\"\u001b[39;00m\n\u001b[1;32m   1187\u001b[0m \u001b[38;5;28;01mif\u001b[39;00m \u001b[38;5;129;01mnot\u001b[39;00m allow_dangerous_deserialization:\n\u001b[0;32m-> 1188\u001b[0m     \u001b[38;5;28;01mraise\u001b[39;00m \u001b[38;5;167;01mValueError\u001b[39;00m(\n\u001b[1;32m   1189\u001b[0m         \u001b[38;5;124m\"\u001b[39m\u001b[38;5;124mThe de-serialization relies loading a pickle file. \u001b[39m\u001b[38;5;124m\"\u001b[39m\n\u001b[1;32m   1190\u001b[0m         \u001b[38;5;124m\"\u001b[39m\u001b[38;5;124mPickle files can be modified to deliver a malicious payload that \u001b[39m\u001b[38;5;124m\"\u001b[39m\n\u001b[1;32m   1191\u001b[0m         \u001b[38;5;124m\"\u001b[39m\u001b[38;5;124mresults in execution of arbitrary code on your machine.\u001b[39m\u001b[38;5;124m\"\u001b[39m\n\u001b[1;32m   1192\u001b[0m         \u001b[38;5;124m\"\u001b[39m\u001b[38;5;124mYou will need to set `allow_dangerous_deserialization` to `True` to \u001b[39m\u001b[38;5;124m\"\u001b[39m\n\u001b[1;32m   1193\u001b[0m         \u001b[38;5;124m\"\u001b[39m\u001b[38;5;124menable deserialization. If you do this, make sure that you \u001b[39m\u001b[38;5;124m\"\u001b[39m\n\u001b[1;32m   1194\u001b[0m         \u001b[38;5;124m\"\u001b[39m\u001b[38;5;124mtrust the source of the data. For example, if you are loading a \u001b[39m\u001b[38;5;124m\"\u001b[39m\n\u001b[1;32m   1195\u001b[0m         \u001b[38;5;124m\"\u001b[39m\u001b[38;5;124mfile that you created, and know that no one else has modified the \u001b[39m\u001b[38;5;124m\"\u001b[39m\n\u001b[1;32m   1196\u001b[0m         \u001b[38;5;124m\"\u001b[39m\u001b[38;5;124mfile, then this is safe to do. Do not set this to `True` if you are \u001b[39m\u001b[38;5;124m\"\u001b[39m\n\u001b[1;32m   1197\u001b[0m         \u001b[38;5;124m\"\u001b[39m\u001b[38;5;124mloading a file from an untrusted source (e.g., some random site on \u001b[39m\u001b[38;5;124m\"\u001b[39m\n\u001b[1;32m   1198\u001b[0m         \u001b[38;5;124m\"\u001b[39m\u001b[38;5;124mthe internet.).\u001b[39m\u001b[38;5;124m\"\u001b[39m\n\u001b[1;32m   1199\u001b[0m     )\n\u001b[1;32m   1200\u001b[0m path \u001b[38;5;241m=\u001b[39m Path(folder_path)\n\u001b[1;32m   1201\u001b[0m \u001b[38;5;66;03m# load index separately since it is not picklable\u001b[39;00m\n",
      "\u001b[0;31mValueError\u001b[0m: The de-serialization relies loading a pickle file. Pickle files can be modified to deliver a malicious payload that results in execution of arbitrary code on your machine.You will need to set `allow_dangerous_deserialization` to `True` to enable deserialization. If you do this, make sure that you trust the source of the data. For example, if you are loading a file that you created, and know that no one else has modified the file, then this is safe to do. Do not set this to `True` if you are loading a file from an untrusted source (e.g., some random site on the internet.)."
     ]
    }
   ],
   "source": [
    "from langchain.vectorstores import FAISS\n",
    "\n",
    "\n",
    "# Create a FAISS vector store\n",
    "vector_store = FAISS.from_texts(texts, huggingface_embeddings)\n",
    "\n",
    "# Save the FAISS store for reuse\n",
    "vector_store.save_local(\"faiss_store\")\n",
    "\n",
    "# Load the FAISS store\n",
    "loaded_store = FAISS.load_local(\"faiss_store\", huggingface_embeddings)\n"
   ]
  },
  {
   "cell_type": "code",
   "execution_count": 38,
   "metadata": {},
   "outputs": [],
   "source": [
    "from langchain.vectorstores import FAISS\n",
    "\n",
    "# Save the FAISS vector store\n",
    "vector_store.save_local(\"faiss_store\")\n",
    "\n",
    "# Load the FAISS store with explicit permission for deserialization\n",
    "loaded_store = FAISS.load_local(\n",
    "    \"faiss_store\",\n",
    "    huggingface_embeddings,\n",
    "    allow_dangerous_deserialization=True\n",
    ")\n"
   ]
  },
  {
   "cell_type": "code",
   "execution_count": 37,
   "metadata": {},
   "outputs": [
    {
     "ename": "TypeError",
     "evalue": "VectorStore.from_documents() missing 1 required positional argument: 'documents'",
     "output_type": "error",
     "traceback": [
      "\u001b[0;31m---------------------------------------------------------------------------\u001b[0m",
      "\u001b[0;31mTypeError\u001b[0m                                 Traceback (most recent call last)",
      "Cell \u001b[0;32mIn[37], line 5\u001b[0m\n\u001b[1;32m      2\u001b[0m embeddings_array \u001b[38;5;241m=\u001b[39m np\u001b[38;5;241m.\u001b[39marray(embeddings)\n\u001b[1;32m      4\u001b[0m \u001b[38;5;66;03m# Create a FAISS vector store\u001b[39;00m\n\u001b[0;32m----> 5\u001b[0m vector_store \u001b[38;5;241m=\u001b[39m FAISS\u001b[38;5;241m.\u001b[39mfrom_documents(\n\u001b[1;32m      6\u001b[0m     texts\u001b[38;5;241m=\u001b[39mtexts,\n\u001b[1;32m      7\u001b[0m     embeddings\u001b[38;5;241m=\u001b[39membeddings_array,\n\u001b[1;32m      8\u001b[0m     embedding\u001b[38;5;241m=\u001b[39mhuggingface_embeddings,\n\u001b[1;32m      9\u001b[0m )\n\u001b[1;32m     11\u001b[0m \u001b[38;5;66;03m# Save the FAISS store for reuse\u001b[39;00m\n\u001b[1;32m     12\u001b[0m vector_store\u001b[38;5;241m.\u001b[39msave_local(\u001b[38;5;124m\"\u001b[39m\u001b[38;5;124mfaiss_store\u001b[39m\u001b[38;5;124m\"\u001b[39m)\n",
      "\u001b[0;31mTypeError\u001b[0m: VectorStore.from_documents() missing 1 required positional argument: 'documents'"
     ]
    }
   ],
   "source": [
    "# Ensure embeddings are a numpy array\n",
    "embeddings_array = np.array(embeddings)\n",
    "\n",
    "# Create a FAISS vector store\n",
    "vector_store = FAISS.from_documents(\n",
    "    texts=texts,\n",
    "    embeddings=embeddings_array,\n",
    "    embedding=huggingface_embeddings,\n",
    ")\n",
    "\n",
    "# Save the FAISS store for reuse\n",
    "vector_store.save_local(\"faiss_store\")"
   ]
  },
  {
   "cell_type": "code",
   "execution_count": 13,
   "metadata": {},
   "outputs": [
    {
     "ename": "AttributeError",
     "evalue": "'str' object has no attribute 'page_content'",
     "output_type": "error",
     "traceback": [
      "\u001b[0;31m---------------------------------------------------------------------------\u001b[0m",
      "\u001b[0;31mAttributeError\u001b[0m                            Traceback (most recent call last)",
      "Cell \u001b[0;32mIn[13], line 2\u001b[0m\n\u001b[1;32m      1\u001b[0m \u001b[38;5;28;01mimport\u001b[39;00m  \u001b[38;5;21;01mnumpy\u001b[39;00m \u001b[38;5;28;01mas\u001b[39;00m \u001b[38;5;21;01mnp\u001b[39;00m\n\u001b[0;32m----> 2\u001b[0m \u001b[38;5;28mprint\u001b[39m(np\u001b[38;5;241m.\u001b[39marray(huggingface_embeddings\u001b[38;5;241m.\u001b[39membed_query(final_documents[\u001b[38;5;241m0\u001b[39m]\u001b[38;5;241m.\u001b[39mpage_content)))\n\u001b[1;32m      3\u001b[0m \u001b[38;5;28mprint\u001b[39m(np\u001b[38;5;241m.\u001b[39marray(huggingface_embeddings\u001b[38;5;241m.\u001b[39membed_query(final_documents[\u001b[38;5;241m0\u001b[39m]\u001b[38;5;241m.\u001b[39mpage_content))\u001b[38;5;241m.\u001b[39mshape)\n",
      "\u001b[0;31mAttributeError\u001b[0m: 'str' object has no attribute 'page_content'"
     ]
    }
   ],
   "source": [
    "import  numpy as np\n",
    "print(np.array(huggingface_embeddings.embed_query(final_documents[0].page_content)))\n",
    "print(np.array(huggingface_embeddings.embed_query(final_documents[0].page_content)).shape)"
   ]
  },
  {
   "cell_type": "code",
   "execution_count": 11,
   "metadata": {},
   "outputs": [],
   "source": [
    "## VectorStore Creation\n",
    "vectorstore=FAISS.from_documents(final_documents[:120],huggingface_embeddings)"
   ]
  },
  {
   "cell_type": "code",
   "execution_count": 14,
   "metadata": {},
   "outputs": [
    {
     "name": "stdout",
     "output_type": "stream",
     "text": [
      "2 U.S. Census Bureau\n",
      "WHAT IS HEALTH INSURANCE COVERAGE?\n",
      "This brief presents state-level estimates of health insurance coverage \n",
      "using data from the American Community Survey (ACS). The  \n",
      "U.S. Census Bureau conducts the ACS throughout the year; the \n",
      "survey asks respondents to report their coverage at the time of \n",
      "interview. The resulting measure of health insurance coverage, \n",
      "therefore, reflects an annual average of current comprehensive \n",
      "health insurance coverage status.* This uninsured rate measures a \n",
      "different concept than the measure based on the Current Population \n",
      "Survey Annual Social and Economic Supplement (CPS ASEC). \n",
      "For reporting purposes, the ACS broadly classifies health insurance \n",
      "coverage as private insurance or public insurance. The ACS defines \n",
      "private health insurance as a plan provided through an employer \n",
      "or a union, coverage purchased directly by an individual from an \n",
      "insurance company or through an exchange (such as healthcare.\n"
     ]
    }
   ],
   "source": [
    "## Query using Similarity Search\n",
    "query=\"WHAT IS HEALTH INSURANCE COVERAGE?\"\n",
    "relevant_docments=vectorstore.similarity_search(query)\n",
    "\n",
    "print(relevant_docments[0].page_content)"
   ]
  },
  {
   "cell_type": "code",
   "execution_count": 15,
   "metadata": {},
   "outputs": [
    {
     "name": "stdout",
     "output_type": "stream",
     "text": [
      "tags=['FAISS', 'HuggingFaceBgeEmbeddings'] vectorstore=<langchain_community.vectorstores.faiss.FAISS object at 0x00000159F4860C10> search_kwargs={'k': 3}\n"
     ]
    }
   ],
   "source": [
    "retriever=vectorstore.as_retriever(search_type=\"similarity\",search_kwargs={\"k\":3})\n",
    "print(retriever)"
   ]
  },
  {
   "cell_type": "code",
   "execution_count": 16,
   "metadata": {},
   "outputs": [],
   "source": [
    "import os\n",
    "os.environ['HUGGINGFACEHUB_API_TOKEN']=\"\""
   ]
  },
  {
   "cell_type": "markdown",
   "metadata": {},
   "source": [
    "The Hugging Face Hub is an platform with over 350k models, 75k datasets, and 150k demo apps (Spaces), all open source and publicly available, in an online platform where people can easily collaborate and build ML together."
   ]
  },
  {
   "cell_type": "code",
   "execution_count": 17,
   "metadata": {},
   "outputs": [
    {
     "name": "stderr",
     "output_type": "stream",
     "text": [
      "e:\\Langchain\\venv\\lib\\site-packages\\langchain_core\\_api\\deprecation.py:117: LangChainDeprecationWarning: The class `langchain_community.llms.huggingface_hub.HuggingFaceHub` was deprecated in langchain-community 0.0.21 and will be removed in 0.2.0. Use HuggingFaceEndpoint instead.\n",
      "  warn_deprecated(\n"
     ]
    },
    {
     "data": {
      "text/plain": [
       "'What is the health insurance coverage?\\n\\nThe health insurance coverage is a contract between the insurer and the insured. The insurer agrees to pay the insured for the medical expenses incurred by the insured. The insured agrees to pay the premium to the insurer.\\n\\nWhat is the health insurance coverage?\\n\\nThe health insurance coverage is a contract between the insurer and the insured. The insurer agrees to pay the insured for the medical expenses incurred by the insured.'"
      ]
     },
     "execution_count": 17,
     "metadata": {},
     "output_type": "execute_result"
    }
   ],
   "source": [
    "from langchain_community.llms import HuggingFaceHub\n",
    "\n",
    "hf=HuggingFaceHub(\n",
    "    repo_id=\"mistralai/Mistral-7B-v0.1\",\n",
    "    model_kwargs={\"temperature\":0.1,\"max_length\":500}\n",
    "\n",
    ")\n",
    "query=\"What is the health insurance coverage?\"\n",
    "hf.invoke(query)"
   ]
  },
  {
   "cell_type": "code",
   "execution_count": null,
   "metadata": {},
   "outputs": [],
   "source": [
    "#Hugging Face models can be run locally through the HuggingFacePipeline class.\n",
    "from langchain_community.llms.huggingface_pipeline import HuggingFacePipeline\n",
    "\n",
    "hf = HuggingFacePipeline.from_model_id(\n",
    "    model_id=\"mistralai/Mistral-7B-v0.1\",\n",
    "    task=\"text-generation\",\n",
    "    pipeline_kwargs={\"temperature\": 0, \"max_new_tokens\": 300}\n",
    ")\n",
    "\n",
    "llm = hf \n",
    "llm.invoke(query)"
   ]
  },
  {
   "cell_type": "code",
   "execution_count": 22,
   "metadata": {},
   "outputs": [],
   "source": [
    "prompt_template=\"\"\"\n",
    "Use the following piece of context to answer the question asked.\n",
    "Please try to provide the answer only based on the context\n",
    "\n",
    "{context}\n",
    "Question:{question}\n",
    "\n",
    "Helpful Answers:\n",
    " \"\"\""
   ]
  },
  {
   "cell_type": "code",
   "execution_count": 24,
   "metadata": {},
   "outputs": [],
   "source": [
    "prompt=PromptTemplate(template=prompt_template,input_variables=[\"context\",\"question\"])"
   ]
  },
  {
   "cell_type": "code",
   "execution_count": 25,
   "metadata": {},
   "outputs": [],
   "source": [
    "retrievalQA=RetrievalQA.from_chain_type(\n",
    "    llm=hf,\n",
    "    chain_type=\"stuff\",\n",
    "    retriever=retriever,\n",
    "    return_source_documents=True,\n",
    "    chain_type_kwargs={\"prompt\":prompt}\n",
    ")"
   ]
  },
  {
   "cell_type": "code",
   "execution_count": 28,
   "metadata": {},
   "outputs": [],
   "source": [
    "query=\"\"\"DIFFERENCES IN THE\n",
    "UNINSURED RATE BY STATE\n",
    "IN 2022\"\"\""
   ]
  },
  {
   "cell_type": "code",
   "execution_count": 29,
   "metadata": {},
   "outputs": [
    {
     "name": "stdout",
     "output_type": "stream",
     "text": [
      "\n",
      "Use the following piece of context to answer the question asked.\n",
      "Please try to provide the answer only based on the context\n",
      "\n",
      "comparison of ACS and CPS ASEC measures \n",
      "of health insurance coverage, refer to < www.\n",
      "census.gov/topics/health/health-insurance/\n",
      "guidance.html >.\n",
      "9 Respondents may have more than one \n",
      "health insurance coverage type at the time \n",
      "of interview. As a result, adding the total \n",
      "number of people with private coverage and \n",
      "the total number with public coverage will \n",
      "sum to more than the total number with any \n",
      "coverage.• From 2021 to 2022, nine states \n",
      "reported increases in private \n",
      "coverage, while seven reported \n",
      "decreases (Appendix Table B-2). \n",
      "DIFFERENCES IN THE \n",
      "UNINSURED RATE BY STATE \n",
      "IN 2022\n",
      "In 2022, uninsured rates at the \n",
      "time of interview ranged across \n",
      "states from a low of 2.4 percent \n",
      "in Massachusetts to a high of 16.6 \n",
      "percent in Texas, compared to the \n",
      "national rate of 8.0 percent.10 Ten \n",
      "of the 15 states with uninsured \n",
      "10 The uninsured rates in the District \n",
      "of Columbia and Massachusetts were not \n",
      "statistically different.rates above the national aver -\n",
      "\n",
      "percent (Appendix Table B-5). \n",
      "Medicaid coverage accounted \n",
      "for a portion of that difference. \n",
      "Medicaid coverage was 22.7 per -\n",
      "cent in the group of states that \n",
      "expanded Medicaid eligibility and \n",
      "18.0 percent in the group of nonex -\n",
      "pansion states.\n",
      "CHANGES IN THE UNINSURED \n",
      "RATE BY STATE FROM 2021 \n",
      "TO 2022\n",
      "From 2021 to 2022, uninsured rates \n",
      "decreased across 27 states, while \n",
      "only Maine had an increase. The \n",
      "uninsured rate in Maine increased \n",
      "from 5.7 percent to 6.6 percent, \n",
      "although it remained below the \n",
      "national average. Maine’s uninsured \n",
      "rate was still below 8.0 percent, \n",
      "21 Douglas Conway and Breauna Branch, \n",
      "“Health Insurance Coverage Status and Type \n",
      "by Geography: 2019 and 2021,” 2022, < www.\n",
      "census.gov/content/dam/Census/library/\n",
      "publications/2022/acs/acsbr-013.pdf >.\n",
      "\n",
      "library/publications/2022/acs/acsbr-013.pdf >.\n",
      "39 In 2022, the private coverage rates were \n",
      "not statistically different in North Dakota and \n",
      "Utah.Figure /five.tab/period.tab\n",
      "Percentage of Uninsured People for the /two.tab/five.tab Most Populous Metropolitan \n",
      "Areas/colon.tab /two.tab/zero.tab/two.tab/one.tab and /two.tab/zero.tab/two.tab/two.tab\n",
      "(Civilian, noninstitutionalized population) /uni00A0\n",
      "* Denotes a statistically signiﬁcant change between 2021 and 2022 at the 90 percent conﬁdence level.\n",
      "Note: For information on conﬁdentiality protection, sampling error, nonsampling error, and deﬁnitions in the American Community\n",
      "Survey, refer to <https://www2.census.gov/programs-surveys/acs/tech_docs/accuracy/ACS_Accuracy_of_Data_2022.pdf>.\n",
      "Source: U.S. Census Bureau, 2021 and 2022 American Community Survey, 1-year estimates. Boston-Cambridge-Newton/comma.tab MA-NH\n",
      "San Francisco-Oakland-Berkeley/comma.tab CA\n",
      "*Detroit-Warren-Dearborn/comma.tab MI\n",
      "Question:DIFFERENCES IN THE\n",
      "UNINSURED RATE BY STATE\n",
      "IN 2022\n",
      "\n",
      "Helpful Answers:\n",
      " 1.\n",
      " 2.\n",
      " 3.\n",
      " 4.\n",
      " 5.\n",
      " 6.\n",
      " 7.\n",
      " 8.\n",
      " 9.\n",
      " 10.\n",
      " 11.\n",
      " 12.\n",
      " 13.\n",
      " 14.\n",
      " 15.\n",
      " 16.\n",
      " 17.\n",
      " 18.\n",
      " 19.\n",
      " 20.\n",
      " 21.\n",
      " 22.\n",
      "\n"
     ]
    }
   ],
   "source": [
    "# Call the QA chain with our query.\n",
    "result = retrievalQA.invoke({\"query\": query})\n",
    "print(result['result'])"
   ]
  },
  {
   "cell_type": "code",
   "execution_count": null,
   "metadata": {},
   "outputs": [],
   "source": []
  },
  {
   "cell_type": "code",
   "execution_count": null,
   "metadata": {},
   "outputs": [],
   "source": []
  }
 ],
 "metadata": {
  "kernelspec": {
   "display_name": "base",
   "language": "python",
   "name": "python3"
  },
  "language_info": {
   "codemirror_mode": {
    "name": "ipython",
    "version": 3
   },
   "file_extension": ".py",
   "mimetype": "text/x-python",
   "name": "python",
   "nbconvert_exporter": "python",
   "pygments_lexer": "ipython3",
   "version": "3.11.5"
  }
 },
 "nbformat": 4,
 "nbformat_minor": 2
}
